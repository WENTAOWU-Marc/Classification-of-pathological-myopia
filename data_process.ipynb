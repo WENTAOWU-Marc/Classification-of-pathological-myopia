{
 "cells": [
  {
   "cell_type": "code",
   "execution_count": null,
   "id": "9dcee404-b9e1-4f79-a743-879de6c7fb61",
   "metadata": {},
   "outputs": [],
   "source": [
    "import os\n",
    "import shutil\n",
    "from PIL import Image\n",
    "import paddle.nn.functional as F\n",
    "\n",
    "# 定义文件夹路径\n",
    "data_dir = \"data/Train\"\n",
    "fundus_image_dir = os.path.join(data_dir, \"fundus_image\")\n",
    "lesion_masks_dir = os.path.join(data_dir, \"Lesion_Masks\")\n",
    "atrophy_dir = os.path.join(lesion_masks_dir, \"Atrophy\")\n",
    "detachment_dir = os.path.join(lesion_masks_dir, \"Detachment\")\n",
    "\n",
    "# 创建新的文件夹结构\n",
    "completed_masks_dir = os.path.join(lesion_masks_dir, \"Completed_Masks\")\n",
    "completed_atrophy_dir = os.path.join(completed_masks_dir, \"Atrophy\")\n",
    "completed_detachment_dir = os.path.join(completed_masks_dir, \"Detachment\")\n",
    "\n",
    "os.makedirs(completed_atrophy_dir, exist_ok=True)\n",
    "os.makedirs(completed_detachment_dir, exist_ok=True)\n",
    "\n",
    "# 获取所有眼底彩照的文件名（不包括扩展名）\n",
    "fundus_images = [os.path.splitext(f)[0] for f in os.listdir(fundus_image_dir) if f.endswith('.jpg')]\n",
    "\n",
    "# 遍历每张眼底彩照\n",
    "for image_name in fundus_images:\n",
    "    atrophy_mask_path = os.path.join(atrophy_dir, image_name + \".bmp\")\n",
    "    detachment_mask_path = os.path.join(detachment_dir, image_name + \".bmp\")\n",
    "\n",
    "    completed_atrophy_mask_path = os.path.join(completed_atrophy_dir, image_name + \".bmp\")\n",
    "    completed_detachment_mask_path = os.path.join(completed_detachment_dir, image_name + \".bmp\")\n",
    "\n",
    "    # 检查Atrophy和Detachment文件夹中是否存在对应的.bmp分割图\n",
    "    if not os.path.exists(atrophy_mask_path):\n",
    "        # 如果不存在，则创建一个白色的.bmp分割图\n",
    "        img = Image.new('1', (1444, 1444), 1)  # 创建一个1444x1444的白色图像\n",
    "        img.save(completed_atrophy_mask_path)\n",
    "    else:\n",
    "        # 如果存在，则复制到新的文件夹中\n",
    "        shutil.copy(atrophy_mask_path, completed_atrophy_mask_path)\n",
    "\n",
    "    if not os.path.exists(detachment_mask_path):\n",
    "        # 如果不存在，则创建一个白色的.bmp分割图\n",
    "        img = Image.new('1', (1444, 1444), 1)  # 创建一个1444x1444的白色图像\n",
    "        img.save(completed_detachment_mask_path)\n",
    "    else:\n",
    "        # 如果存在，则复制到新的文件夹中\n",
    "        shutil.copy(detachment_mask_path, completed_detachment_mask_path)\n",
    "\n",
    "print(\"数据预处理完成！\")\n"
   ]
  }
 ],
 "metadata": {
  "kernelspec": {
   "display_name": "Python 3 (ipykernel)",
   "language": "python",
   "name": "python3"
  },
  "language_info": {
   "codemirror_mode": {
    "name": "ipython",
    "version": 3
   },
   "file_extension": ".py",
   "mimetype": "text/x-python",
   "name": "python",
   "nbconvert_exporter": "python",
   "pygments_lexer": "ipython3",
   "version": "3.8.10"
  }
 },
 "nbformat": 4,
 "nbformat_minor": 5
}
