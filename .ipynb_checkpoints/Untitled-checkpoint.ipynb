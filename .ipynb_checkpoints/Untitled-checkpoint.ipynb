{
 "cells": [
  {
   "cell_type": "code",
   "execution_count": 6,
   "id": "8d1c2e74-550e-45da-8be5-2ecd9a1095bc",
   "metadata": {},
   "outputs": [
    {
     "data": {
      "text/plain": [
       "1208"
      ]
     },
     "execution_count": 6,
     "metadata": {},
     "output_type": "execute_result"
    },
    {
     "name": "stderr",
     "output_type": "stream",
     "text": [
      "\u001b[1;33mVisualDL 2.2.3\u001b[0m\n",
      "Process Process-1:\n",
      "Traceback (most recent call last):\n",
      "  File \"/root/miniconda3/lib/python3.8/multiprocessing/process.py\", line 315, in _bootstrap\n",
      "    self.run()\n",
      "  File \"/root/miniconda3/lib/python3.8/multiprocessing/process.py\", line 108, in run\n",
      "    self._target(*self._args, **self._kwargs)\n",
      "  File \"/root/miniconda3/lib/python3.8/site-packages/visualdl/server/app.py\", line 156, in _run\n",
      "    app = create_app(args)\n",
      "  File \"/root/miniconda3/lib/python3.8/site-packages/visualdl/server/app.py\", line 79, in create_app\n",
      "    @babel.localeselector\n",
      "AttributeError: 'Babel' object has no attribute 'localeselector'\n"
     ]
    }
   ],
   "source": [
    "import visualdl.server.app\n",
    "visualdl.server.app.run('unet_vdl_logs',\n",
    "                        host=\"127.0.0.1\",\n",
    "                        port=8080,\n",
    "                        cache_timeout=20,\n",
    "                        language=None,\n",
    "                        public_path=None,\n",
    "                        api_only=False,\n",
    "                        open_browser=False)"
   ]
  },
  {
   "cell_type": "code",
   "execution_count": null,
   "id": "f8cf07ff-c75e-48cb-a119-a5fd5c3fa3fc",
   "metadata": {},
   "outputs": [],
   "source": []
  }
 ],
 "metadata": {
  "kernelspec": {
   "display_name": "Python 3 (ipykernel)",
   "language": "python",
   "name": "python3"
  },
  "language_info": {
   "codemirror_mode": {
    "name": "ipython",
    "version": 3
   },
   "file_extension": ".py",
   "mimetype": "text/x-python",
   "name": "python",
   "nbconvert_exporter": "python",
   "pygments_lexer": "ipython3",
   "version": "3.8.10"
  }
 },
 "nbformat": 4,
 "nbformat_minor": 5
}
